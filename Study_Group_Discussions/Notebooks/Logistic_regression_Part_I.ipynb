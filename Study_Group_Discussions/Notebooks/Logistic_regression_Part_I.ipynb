{
 "cells": [
  {
   "cell_type": "markdown",
   "id": "d7802330-2ceb-413e-919b-c621310ff0df",
   "metadata": {},
   "source": [
    "# Solution Seekers Group\n",
    "\n",
    "Lead of the Study Group Discussion: **Youssef Laouina**\n",
    "\n",
    "Author: **Youssef Laouina**\n"
   ]
  },
  {
   "cell_type": "markdown",
   "id": "96187e25-b5a2-4fef-8fb6-f2b24a0d5cbe",
   "metadata": {},
   "source": [
    " "
   ]
  },
  {
   "cell_type": "markdown",
   "id": "45cc0b21-b00d-4dc2-9641-bcc8b4be6081",
   "metadata": {},
   "source": [
    "# Logistic Regression: Introduction"
   ]
  },
  {
   "cell_type": "markdown",
   "id": "eaf455f7-d557-4320-a44e-de21a9ea5f0d",
   "metadata": {},
   "source": [
    "## Defintion:"
   ]
  },
  {
   "cell_type": "markdown",
   "id": "868c34bb-a5de-4787-a39a-984a3135da3a",
   "metadata": {},
   "source": [
    "Logistic regression is a statistical method used for **binary classification** tasks, where the goal is to predict the probability that an instance belongs to a particular class.\n",
    "\n",
    "In ***binary classification***, we have a target variable that can take on two possible outcomes, often denoted as 0 and 1 (e.g., pass/fail, yes/no, positive/negative)."
   ]
  },
  {
   "cell_type": "markdown",
   "id": "3626b536-d032-492b-ab37-bb03472bbf1f",
   "metadata": {},
   "source": [
    "An example of a binary classification task would be a dataset with two columns: one for the number of hours a student studied for an exam and another column indicating whether they passed (1) or failed (0) the exam."
   ]
  },
  {
   "cell_type": "markdown",
   "id": "0d7c1efe-e7f5-4ba0-8ad8-98f329a5e1b7",
   "metadata": {},
   "source": [
    "| Hours Studied | Exam Outcome |\n",
    "|---:|----:|\n",
    "|3|0|\n",
    "|4|0|\n",
    "|5|1|\n",
    "|6|1|\n",
    "|7|1|"
   ]
  },
  {
   "cell_type": "markdown",
   "id": "c6098741-1a80-40a4-88f9-d6b4ce27134f",
   "metadata": {},
   "source": [
    " "
   ]
  },
  {
   "cell_type": "markdown",
   "id": "fa5dfcc0-d9a8-4ee1-b0e2-8f638ebcaa0b",
   "metadata": {},
   "source": [
    "# Odds"
   ]
  },
  {
   "cell_type": "markdown",
   "id": "4cc0b6a5-90f9-4c37-a8fe-37a36c71a060",
   "metadata": {},
   "source": [
    "Let's talk a little bit about the concept of **Odds**.\n",
    "In the example above we say that the odds in favor of the student passing the exam are 3 to 2.\n",
    "\n",
    "Visually we have 5 exams total, 3 of which the student will pass and are represented with green, and 2 of which the student fail and are represented with red."
   ]
  },
  {
   "cell_type": "markdown",
   "id": "2b4f74d7-9da7-4c95-a665-0756f75bfe05",
   "metadata": {},
   "source": [
    "<center><img src=\"../images/3_pass_2_fail.png\" alt=\"Student passes 3 and fails 2 exams\" style=\"width: 400px;\"/></center> "
   ]
  },
  {
   "cell_type": "markdown",
   "id": "c3d3dff8-2fc9-4ac1-977c-cc6137370596",
   "metadata": {},
   "source": [
    "Alternatively, we can write this as a fraction $\\frac{3}{2}$"
   ]
  },
  {
   "cell_type": "markdown",
   "id": "2c1be7b1-f3f3-4290-867c-324ca53a3f61",
   "metadata": {},
   "source": [
    "**Note:** \n",
    "Odds Are Not Probabilites!\n",
    "\n",
    "The **odds** are the ratio of:\n",
    "\n",
    "$$ \\frac{\\text{ something happening (i.e passing the exam)}}{\\text{\n",
    "to something not happenng (i.e. failing the exam)}} $$\n",
    "\n",
    "\n",
    "On the other hand, **Probability** is:\n",
    "$$ \\frac{\\text{ something happening (i.e passing the exam)}}{\\text{\n",
    "to everything that could happend (i.e. passing and failing the exam)}} $$"
   ]
  },
  {
   "cell_type": "markdown",
   "id": "c89464b3-a843-4925-a4ee-668638a4e122",
   "metadata": {},
   "source": [
    "In the case of probability, we can write this as a fraction $\\frac{3}{5} = \\frac{3}{2 + 3}$"
   ]
  },
  {
   "cell_type": "markdown",
   "id": "9d2b5532-a6ff-4140-a5c6-615d4b236d3e",
   "metadata": {},
   "source": [
    " "
   ]
  },
  {
   "cell_type": "markdown",
   "id": "c959c23a-6a23-4449-a2fb-79ea42161e47",
   "metadata": {},
   "source": [
    "## Log Odds"
   ]
  },
  {
   "cell_type": "markdown",
   "id": "78f2ebb2-08fb-4639-859e-af2e575d854f",
   "metadata": {},
   "source": [
    "Now that we know that odds are different from probabilities, let's \n",
    "talk about how odds can be \r\n",
    "calculated from probabilities..."
   ]
  },
  {
   "cell_type": "markdown",
   "id": "d1d0f3bc-8976-44fe-9e3a-03bdcd9dc8b1",
   "metadata": {},
   "source": [
    "We can calculate the porobability of passing the exam $(p)$ as follows:\n",
    "\n",
    "$$p = \\frac{3}{5}$$\n",
    "\n",
    "then by extension, the probability of failing is:\n",
    "$$1 - p = \\frac{2}{5} $$\n",
    "\n",
    "if we were to calculat this ratio:\n",
    "\n",
    "The ratio of the probability of passing to (1 - the probability of passing)\n",
    "\n",
    "We would get the following:\n",
    "\n",
    "$$\\frac{p}{1 - p} = \\frac{\\frac{3}{5}}{\\frac{2}{5}} = \\frac{3}{2} = 1.5 $$"
   ]
  },
  {
   "cell_type": "markdown",
   "id": "781c19aa-2a9b-43bc-9166-e4a24dd903cf",
   "metadata": {},
   "source": [
    "Now that we know what odds are, let's talk about the log of the odds.\n",
    "\n",
    "We'll try calculating the log of the odds using the expression above:\n",
    "\n",
    "$$ log_e(\\frac{p}{1- p}) = log_e(\\frac{3}{2}) = log(1.5) = 0.405 $$\n",
    "\n",
    "\n",
    "Suppose that the favors for student A are 6 to 1, and student B has the favors against of 1 to 6.\n",
    "\n",
    "$$ \\text{Student A} \\rightarrow log_e(\\frac{6}{1}) = log_e(6) = 1.79 $$\n",
    "\n",
    "$$ \\text{Student B} \\rightarrow log_e(\\frac{1}{6}) = log_e(0.167) = -1.79 $$\n",
    "\n",
    "\n",
    "The **log()** function can help make the outputs symmetrical around zero, and this can help us interpret the different log odds of different students and compare the odds thereof effortlessly."
   ]
  },
  {
   "cell_type": "markdown",
   "id": "bd826056-bcaa-4970-b7ab-2dbf24e8d88e",
   "metadata": {},
   "source": [
    "<center><img src=\"../images/log_scale_representation_of_ratios.png\" alt=\"Log odds represented on a line\" style=\"width: 600px;\"/></center> "
   ]
  },
  {
   "cell_type": "markdown",
   "id": "eccb0343-e60f-43c4-b3b5-ccfe44868405",
   "metadata": {},
   "source": [
    "**NOTE:**\n",
    "\n",
    "The log of the ratio of the probabilities is called the **logit** function and forms the basis of the logistic regresion.\n",
    "\n",
    "$$ logit = log(\\frac{p}{1- p} ) $$"
   ]
  },
  {
   "cell_type": "markdown",
   "id": "98d661f4-fee5-4d73-bfc7-1f692108aa5e",
   "metadata": {},
   "source": [
    "### Applications of Log Odds"
   ]
  },
  {
   "cell_type": "markdown",
   "id": "113b58aa-15eb-49ac-b885-197bbe18ad57",
   "metadata": {},
   "source": [
    "To show you what the big deal is all about, if I pick pairs of random numbers that add up to 100 (for example) and use them to calculate the log(odds) and draw a histogram... this is what we'll get."
   ]
  },
  {
   "cell_type": "code",
   "execution_count": null,
   "id": "01b200a6-1ab6-4578-925a-4f73cc2188fe",
   "metadata": {},
   "outputs": [],
   "source": [
    "import random\n",
    "import seaborn as sns\n",
    "import matplotlib.pyplot as plt \n",
    "import numpy as np\n",
    "import pandas as pd \n",
    "import warnings\n",
    "\n",
    "warnings.simplefilter(action='ignore', category=[FutureWarning])\n",
    "\n",
    "ratios = list()\n",
    "\n",
    "for i in range(1000):\n",
    "    nominator = random.randint(0, 100)\n",
    "    denominator = 100 - nominator + 1\n",
    "    ratio = nominator / denominator\n",
    "    if ratio != 0:\n",
    "        ratios.append(ratio)"
   ]
  },
  {
   "cell_type": "code",
   "execution_count": null,
   "id": "4bf6f650-32f9-4b17-ab1c-30127982c0b2",
   "metadata": {},
   "outputs": [],
   "source": [
    "data = pd.DataFrame({'Ratios': np.log(ratios)})"
   ]
  },
  {
   "cell_type": "code",
   "execution_count": null,
   "id": "008e9b9a-07d7-417a-aefe-e51f34de38bd",
   "metadata": {},
   "outputs": [],
   "source": [
    "plt.hist(data.Ratios, edgecolor='white', bins=20)\n",
    "plt.title('Distribution of Ratios')\n",
    "plt.show()"
   ]
  },
  {
   "cell_type": "markdown",
   "id": "4178d148-2e68-4104-af22-1c8a6d311070",
   "metadata": {},
   "source": [
    " "
   ]
  },
  {
   "cell_type": "markdown",
   "id": "8ecfffb8-7ab4-4561-9b5d-db050c17a90b",
   "metadata": {},
   "source": [
    ">  the shape of the histogram is similar to a normal distribution and is approximated with a normal distribution."
   ]
  },
  {
   "cell_type": "markdown",
   "id": "0bcdb377-974e-4c64-9012-35c76840cbc4",
   "metadata": {},
   "source": [
    "This makes the **log(odds)** useful for solving certain statistics problems - specifically ones where we are trying to determine probabilities about win/lose, or yes/no, or true/false types of situations."
   ]
  },
  {
   "cell_type": "markdown",
   "id": "546394e8-7409-465d-b327-2efaf7c5956b",
   "metadata": {},
   "source": [
    "# Odds Ratios"
   ]
  },
  {
   "cell_type": "markdown",
   "id": "b91f81e4-37a7-4346-9d1b-bf07cd964cf3",
   "metadata": {},
   "source": [
    "Odds Ratios is just the Ratio of Odds.\n",
    "\n",
    "For instance, the odds for a  patient in favor of not having Cancer are 5 to 8, and the odds in favor of him not having the mutated the gene responsible for having Cancer are 6 to 13.\n",
    "\n",
    "If we were to calculate the ratio of there two odds we will get:\n",
    "\n",
    "$$ \\text{Ratio of Odds} = \\frac{\\frac{5}{8}}{\\frac{6}{13}} = \\frac{5}{8} \\times \\frac{13}{6} = \\frac{65}{48} = 1.354 $$\n",
    "\n",
    "Now what can we do with Odds Ratios?\n"
   ]
  },
  {
   "cell_type": "markdown",
   "id": "be6e0bf7-1e90-4d4e-968d-edf7659d2ec8",
   "metadata": {},
   "source": [
    "Imagine we have a 356 patients, and we have some information about who has cancer and who happened to have the mutated gene.\n",
    "\n",
    "We then organize the data in a table below:"
   ]
  },
  {
   "cell_type": "markdown",
   "id": "e4659ffb-619d-4526-9cb7-d4a9061af79f",
   "metadata": {},
   "source": [
    "| | Has not Cancer | Has not Cancer |\n",
    "|---:|----:| ----: |\n",
    "|Has Mutated gene | 27 | 117 |\n",
    "|Has not Mutated gene| 6| 210 |"
   ]
  },
  {
   "cell_type": "markdown",
   "id": "4bd297b2-7e60-4c0a-9ec4-a00876bd2f3d",
   "metadata": {},
   "source": [
    " We can use an **\"odds ratio\"** to determine if there is a relationship between the mutated gene and cancer.\n",
    "\n",
    " If someone has the mutated gene, are the odds higher that they will get cancer?"
   ]
  },
  {
   "cell_type": "markdown",
   "id": "0c07d51f-c5f3-4821-9b23-6591791c121f",
   "metadata": {},
   "source": [
    " "
   ]
  },
  {
   "cell_type": "markdown",
   "id": "128730c3-693e-41ab-a84d-56ba79390274",
   "metadata": {},
   "source": [
    "Given that a person has has the mutated gene, the odds that they have cancer are $ \\frac{27}{117} $\n",
    "\n",
    "And given that a person does not have the mutated gene, the odds that they have cancer are $ \\frac{6}{210} $\n",
    "\n",
    "Let's calculate our Odds Ratio and see what we'll get:\n",
    "\n",
    "$$ \\text{Odds Ratio} = \\frac{\\frac{27}{117}}{\\frac{6}{210}} = 6.88 $$\n",
    "\n",
    "And given that a person does not have the mutated gene, the odds that they have cancer are **6.88**, and **$ \\text{log}(6.88) = 1.93 $**\n",
    "\n",
    "What does this mean?\n",
    "\n",
    "The odds ratio and the log(odds ratio) are like **R-squared**; they indicate a relationship between two things (in this case, a relationship between the mutated gene and cancer)\n",
    "\n",
    "\n",
    "So, larger values mean that the mutated gene is a **good predictor** of cancer. Smaller values mean that the mutated gene is not a good predictor of cancer."
   ]
  },
  {
   "cell_type": "markdown",
   "id": "bb4a01bc-43d6-451c-b747-9bb7d2ac3f04",
   "metadata": {},
   "source": [
    " "
   ]
  },
  {
   "cell_type": "markdown",
   "id": "9570811a-3586-4ca2-90e1-2afe6c875e82",
   "metadata": {},
   "source": [
    "# Sigmoid Functions"
   ]
  },
  {
   "cell_type": "markdown",
   "id": "c11fa65c-861e-481b-a981-0d27f91ac484",
   "metadata": {},
   "source": [
    "A sigmoid function is any mathematical function whose graph has a characteristic S-shaped or sigmoid curve.\r\n",
    "<center><img src=\"https://upload.wikimedia.org/wikipedia/commons/thumb/6/6f/Gjl-t%28x%29.svg/1920px-Gjl-t%28x%29.svg.png\" alt=\"Some sigmoid functions compared. In the drawing all functions are normalized in such a way that their slope at the origin is 1.\r\n",
    "\" style=\"width:5\n",
    "    000px;\"/></center> \r\n"
   ]
  },
  {
   "cell_type": "markdown",
   "id": "2cd4902f-de20-4cb7-9980-de5cec357d3c",
   "metadata": {},
   "source": [
    "In Linear Regression we saw that the target variable can in theory take any value, but in Logistic Regression the target value can only take values between 0 and 1 which is the probability membership that an instance is of type calss 1 or not (suppose we have two classes 1 and 0).\n",
    "\n"
   ]
  },
  {
   "cell_type": "markdown",
   "id": "2fef43b0-62a6-4467-908e-9a84f6def9e2",
   "metadata": {},
   "source": [
    "## Logistic Function"
   ]
  },
  {
   "cell_type": "markdown",
   "id": "30081305-3b46-4f4f-b830-3ed494ea3fbf",
   "metadata": {},
   "source": [
    "The logistic function is a sigmoid function, which takes any real input $t$, and outputs a value between zero and one.\n",
    "The standard logistic function $ f :\\mathbb {R} \\rightarrow (0,1) $ is defined as follows:\n",
    "\n",
    "$$ f(t) = {\\frac {1}{1+e^{-t}}}={\\frac {e^{t}}{1+e^{t}}}$$"
   ]
  },
  {
   "cell_type": "markdown",
   "id": "05d0a793-1a32-4816-8fb4-308e70dad4ae",
   "metadata": {},
   "source": [
    "<center><img src=\"https://upload.wikimedia.org/wikipedia/commons/thumb/8/88/Logistic-curve.svg/1280px-Logistic-curve.svg.png\" alt=\"The logistic curve\" style=\"width: 400px;\"/></center> "
   ]
  },
  {
   "cell_type": "markdown",
   "id": "6b8ed30f-e1c3-467f-870f-7bcec997ba6c",
   "metadata": {},
   "source": [
    "Let us assume that $t$ is a linear function of a single explanatory variable $x$ (the case where $t$ is a linear combination of multiple explanatory variables is treated similarly). We can then express $t$ as follows:\n",
    "\n",
    "$ t=\\beta _{0}+\\beta _{1}x $\n",
    "\n",
    "And the general logistic function \n",
    "\n",
    "$ p:\\mathbb {R} \\rightarrow (0,1) $ can now be written as:\n",
    "\n",
    "$$ p(x)=f(t)=\\frac{1}{1+e^{-(\\beta _{0}+\\beta _{1}x)}} $$\n",
    "\n",
    "In the logistic model, $p(x)$ is interpreted as the probability of the dependent variable $Y$ equaling a success/case (i.e. reference class) rather than a failure/non-case."
   ]
  },
  {
   "cell_type": "markdown",
   "id": "ebd4f117-4c80-4872-b8ef-4ce6972a13d9",
   "metadata": {},
   "source": [
    "**BIG NOTE!**\n",
    "\n",
    "\n",
    "$\\beta _{0} $ and $ \\beta _{1}$ are estimated using the **Maximum Likelihood Estimation (MLE)** on the contrary of what is used in the Linear Regreesion setup, where we use ***Least Squares Estimation***."
   ]
  },
  {
   "cell_type": "markdown",
   "id": "55245dd0-0de9-4a6a-86af-d9af1621a923",
   "metadata": {},
   "source": [
    " "
   ]
  },
  {
   "cell_type": "markdown",
   "id": "60afbcc6-1285-4cda-b148-0edb8c795b9e",
   "metadata": {},
   "source": [
    "**Attend the online meeting for details**"
   ]
  },
  {
   "cell_type": "markdown",
   "id": "a0f86d61-08c2-456b-aff2-d64a56136996",
   "metadata": {},
   "source": [
    " "
   ]
  },
  {
   "cell_type": "markdown",
   "id": "d7e7c598-5299-49c0-a3a2-518555d94510",
   "metadata": {},
   "source": [
    "~Y.L"
   ]
  }
 ],
 "metadata": {
  "kernelspec": {
   "display_name": "Python 3 (ipykernel)",
   "language": "python",
   "name": "python3"
  },
  "language_info": {
   "codemirror_mode": {
    "name": "ipython",
    "version": 3
   },
   "file_extension": ".py",
   "mimetype": "text/x-python",
   "name": "python",
   "nbconvert_exporter": "python",
   "pygments_lexer": "ipython3",
   "version": "3.11.8"
  },
  "widgets": {
   "application/vnd.jupyter.widget-state+json": {
    "state": {},
    "version_major": 2,
    "version_minor": 0
   }
  }
 },
 "nbformat": 4,
 "nbformat_minor": 5
}
