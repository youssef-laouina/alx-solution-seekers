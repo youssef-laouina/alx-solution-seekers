{
 "cells": [
  {
   "cell_type": "markdown",
   "id": "50fc71c7-f18b-4b23-8393-6c6eaf85bf22",
   "metadata": {},
   "source": [
    "# Solution Seekers Group\n",
    "\n",
    "Lead of the Study Group Discussion: **Badr Bensassi**\n",
    "\n",
    "Author: **Youssef Laouina**\n",
    "\n",
    "Email: *laouina.yusuf@gmail.com*"
   ]
  },
  {
   "cell_type": "markdown",
   "id": "86995501-d236-450b-a274-47e3c9aa5147",
   "metadata": {},
   "source": [
    "# Prepare Data"
   ]
  },
  {
   "cell_type": "markdown",
   "id": "04a9680f-1211-467c-b4a4-cecdd7d424d9",
   "metadata": {},
   "source": [
    "Importing our libraries"
   ]
  },
  {
   "cell_type": "code",
   "execution_count": null,
   "id": "52b03ab4-8fa6-43ea-abf5-5e1fb67dcd0f",
   "metadata": {},
   "outputs": [],
   "source": [
    "import warnings\n",
    "\n",
    "import pandas as pd\n",
    "import matplotlib.pyplot as plt\n",
    "import seaborn as sns\n",
    "\n",
    "warnings.simplefilter(action=\"ignore\", category=FutureWarning)"
   ]
  },
  {
   "cell_type": "markdown",
   "id": "74b428e0-211d-4ea6-b278-cc5c546384b3",
   "metadata": {},
   "source": [
    "## Importing our data into a Pandas DataFrame"
   ]
  },
  {
   "cell_type": "code",
   "execution_count": null,
   "id": "d5207eb6-5335-46b4-a332-80085c7dc3af",
   "metadata": {},
   "outputs": [],
   "source": [
    "df = pd.read_csv(\n",
    "    'https://raw.githubusercontent.com/tirthajyoti/Machine-Learning-with-Python/master/Datasets/USA_Housing.csv', index_col=False)"
   ]
  },
  {
   "cell_type": "code",
   "execution_count": null,
   "id": "96f46d02-74dc-4ef9-a19f-8d406aa4c716",
   "metadata": {},
   "outputs": [],
   "source": [
    "df.info()"
   ]
  },
  {
   "cell_type": "code",
   "execution_count": null,
   "id": "3bee1675-b8c8-4392-a3f4-62dc2e582f27",
   "metadata": {},
   "outputs": [],
   "source": [
    "df.head()"
   ]
  },
  {
   "cell_type": "markdown",
   "id": "30191d73-9a32-4f87-b8ea-e259bd4164c0",
   "metadata": {},
   "source": [
    "## Specifying our 2D dataset"
   ]
  },
  {
   "cell_type": "code",
   "execution_count": null,
   "id": "d4462e8b-db5d-4b70-8812-fd4b76e59608",
   "metadata": {},
   "outputs": [],
   "source": [
    "df_2d = df[['Avg. Area House Age', 'Price']]"
   ]
  },
  {
   "cell_type": "code",
   "execution_count": null,
   "id": "93c7f0db-5c9e-49b1-82c2-4759d34cc3bb",
   "metadata": {},
   "outputs": [],
   "source": [
    "# To display the numbers in normal notation\n",
    "pd.options.display.float_format = '{:.2f}'.format\n",
    "\n",
    "df_2d.describe()"
   ]
  },
  {
   "cell_type": "markdown",
   "id": "00fb2b2d-c0c0-43c8-bf7f-a48eaefb4b7a",
   "metadata": {},
   "source": [
    "According to the **Central Limit Theorem**, the distributions of ***sample means*** and ***sums*** tend to approximate a **normal distribution** as the sample size increases, regardless of the distribution of the population from which the samples are drawn."
   ]
  },
  {
   "cell_type": "markdown",
   "id": "51e137d8-a0f2-41d4-9c79-3be958df8fbb",
   "metadata": {},
   "source": [
    "Let's Examine that!"
   ]
  },
  {
   "cell_type": "code",
   "execution_count": null,
   "id": "8bc038ed-3c86-4cb2-9f68-2febfb18241c",
   "metadata": {},
   "outputs": [],
   "source": [
    "fig, ax = plt.subplots(1, 2, figsize=(10, 5))\n",
    "ax_flat = ax.flatten()\n",
    "\n",
    "sns.kdeplot(data=df_2d, x='Avg. Area House Age', color='orange', fill=True, ax=ax_flat[0])\n",
    "sns.kdeplot(data=df_2d, x='Price'              , color='blue'  , fill=True, ax=ax_flat[1])\n",
    "    \n",
    "plt.show()"
   ]
  },
  {
   "cell_type": "markdown",
   "id": "cc063c70-89c8-480c-a5ce-1269eb22a92d",
   "metadata": {},
   "source": [
    "### Why it is usefull to know the distribution of your data?"
   ]
  },
  {
   "cell_type": "markdown",
   "id": "8915e150-a549-4365-ba0a-e520e77ea3af",
   "metadata": {},
   "source": [
    "Exploring the distribution of data features can help you understand their characteristics, such as their central tendencies and variability. This information is useful for several reasons:\n",
    "\n",
    "* Identify any outliers or unusual patterns in the data.\n",
    "\n",
    "* Help you choose appropriate statistical techniques and model assumptions.\n",
    "\n",
    "* It provides insights into the relationship between the variables, which can inform the choice of predictors in your model."
   ]
  },
  {
   "cell_type": "markdown",
   "id": "99f6778f-bc5c-4429-9b40-a06b40d37dc6",
   "metadata": {},
   "source": [
    "## Explore: Visual analytics methods"
   ]
  },
  {
   "cell_type": "code",
   "execution_count": null,
   "id": "9387b2e0-ac21-44a6-8122-c9653164037e",
   "metadata": {},
   "outputs": [],
   "source": [
    "sns.scatterplot(data=df_2d, x='Avg. Area House Age', y='Price', color='yellow', edgecolor='black', s=50);"
   ]
  },
  {
   "cell_type": "markdown",
   "id": "5480ea16-7305-41a8-813f-8740e762fd25",
   "metadata": {},
   "source": [
    "- It seems like there is some kind of a relationship between the `Price` and `Avg. Area House Age`"
   ]
  },
  {
   "cell_type": "markdown",
   "id": "76428d64-69da-4726-9d43-b99910452ffe",
   "metadata": {},
   "source": [
    " "
   ]
  },
  {
   "cell_type": "markdown",
   "id": "83eb29b4-f848-436f-b034-64460d5c33b2",
   "metadata": {},
   "source": [
    "## Regression Model Assumptions"
   ]
  },
  {
   "cell_type": "markdown",
   "id": "e537ac6d-3778-4a8a-8ace-c693943aa82d",
   "metadata": {},
   "source": [
    "Will a linear model be sufficient to catch the relationship between `Price` and `Avg. Area House Age`?\n",
    "\n",
    "Well, it depends on some factors...\n",
    "\n",
    "We make a few assumptions when we use linear regression to model the relationship between a response and a predictor. These assumptions are essentially **conditions** that should be met before we draw inferences regarding the model estimates or before we use a model to make a prediction.\n",
    "\n",
    "* The true relationship is linear (between a response and a predictor)\n",
    "* Errors are normally distributed\n",
    "* Homoscedasticity of errors (or, equal variance around the line).\n",
    "* Independence of the observations\n",
    "\n"
   ]
  },
  {
   "cell_type": "markdown",
   "id": "0aa1a156-76c5-4ba6-a912-19760266dc64",
   "metadata": {},
   "source": [
    " "
   ]
  },
  {
   "cell_type": "markdown",
   "id": "e741d1de-c81c-4e6f-b8a0-305631786365",
   "metadata": {},
   "source": [
    "**How do we check regression assumptions?** We examine the variability left over **after** we fit the regression line. We simply graph the residuals and look for any unusual patterns.\n",
    "\n",
    "If a linear model makes sense, the residuals will:\n",
    "\n",
    "* have a constant variance\n",
    "* be approximately normally distributed (with a mean of zero), and\n",
    "* be independent of one another."
   ]
  },
  {
   "cell_type": "markdown",
   "id": "d1d487ad-8a78-4f91-a91c-08d8af97b93d",
   "metadata": {},
   "source": [
    "## Splitting our data"
   ]
  },
  {
   "cell_type": "code",
   "execution_count": null,
   "id": "12e8d89f-e83e-4c8e-8f81-6ff81201eff9",
   "metadata": {},
   "outputs": [],
   "source": [
    "feature_matrix = df[['Avg. Area House Age']]\n",
    "target_vector = df['Price']\n",
    "\n",
    "print(f\"Feature Matrix: {feature_matrix.shape}\",\n",
    "      f\"Target Vector: {target_vector.shape}\",\n",
    "      sep='\\n')"
   ]
  },
  {
   "cell_type": "markdown",
   "id": "aa492243-9ba6-43ae-8292-5cb008036823",
   "metadata": {},
   "source": [
    " "
   ]
  },
  {
   "cell_type": "markdown",
   "id": "af89b2ca-9e69-4ae2-a198-b1bda4770cfb",
   "metadata": {},
   "source": [
    "# Building the model"
   ]
  },
  {
   "cell_type": "markdown",
   "id": "09163288-a72f-4c6d-8ae9-58d8c15213b7",
   "metadata": {},
   "source": [
    "Importing the sci-kit learn packages"
   ]
  },
  {
   "cell_type": "code",
   "execution_count": null,
   "id": "06e0f100-6d0d-43f7-a8a4-d71d6b6ae0ba",
   "metadata": {},
   "outputs": [],
   "source": [
    "from sklearn.linear_model import LinearRegression\n",
    "from sklearn.model_selection import train_test_split\n",
    "import numpy as np\n",
    "from sklearn.metrics import mean_absolute_error, mean_squared_error, r2_score"
   ]
  },
  {
   "cell_type": "markdown",
   "id": "3aaef573-ef32-4e64-9233-db0e6d15d75a",
   "metadata": {},
   "source": [
    " "
   ]
  },
  {
   "cell_type": "markdown",
   "id": "29713fbe-2c66-454f-9a4c-e44856432725",
   "metadata": {},
   "source": [
    "Train-Test Split"
   ]
  },
  {
   "cell_type": "code",
   "execution_count": null,
   "id": "5a0e1b97-9ebc-41f0-90d9-b53ec290222c",
   "metadata": {},
   "outputs": [],
   "source": [
    "X_train, X_test, y_train, y_test = train_test_split(feature_matrix,\n",
    "                                                    target_vector,\n",
    "                                                    train_size=0.8,\n",
    "                                                    random_state=7)"
   ]
  },
  {
   "cell_type": "markdown",
   "id": "69c0cc03-e3ad-4bbe-86a9-b5d2360b23b1",
   "metadata": {},
   "source": [
    " "
   ]
  },
  {
   "cell_type": "markdown",
   "id": "71b0e984-50e4-4bf1-a084-e82bf31b6c59",
   "metadata": {},
   "source": [
    "## Baseline Model"
   ]
  },
  {
   "cell_type": "markdown",
   "id": "f650ed49-7a14-4766-9136-0ce2b9b24c6c",
   "metadata": {},
   "source": [
    "Calculate the mean of our target vector y_train and assign it to the variable y_mean."
   ]
  },
  {
   "cell_type": "code",
   "execution_count": null,
   "id": "f9fe4a1b-7009-4356-be96-e8dbc4144255",
   "metadata": {},
   "outputs": [],
   "source": [
    "y_mean = np.mean(y_train)"
   ]
  },
  {
   "cell_type": "code",
   "execution_count": null,
   "id": "7b30ff71-b3f2-405a-8e28-59bdf63171d8",
   "metadata": {},
   "outputs": [],
   "source": [
    "# dummy model predictions\n",
    "y_pred_baseline = [y_mean] * len(y_train)"
   ]
  },
  {
   "cell_type": "markdown",
   "id": "b0785b49-1900-4881-898a-316a52335b11",
   "metadata": {},
   "source": [
    " "
   ]
  },
  {
   "cell_type": "markdown",
   "id": "fcc62925-50cb-4926-8cc6-f57acf2de9da",
   "metadata": {},
   "source": [
    "### Performance Metrics: Baseline Model"
   ]
  },
  {
   "cell_type": "markdown",
   "id": "1e0c2120-3a78-4755-b41b-86c0a48e276e",
   "metadata": {},
   "source": [
    "Calculate the baseline mean absolute error for your predictions in `y_pred_baseline` as compared to the true targets in `y_train`.\n"
   ]
  },
  {
   "cell_type": "code",
   "execution_count": null,
   "id": "0e2e1769-915a-4316-bfb1-aa9671ab8a0f",
   "metadata": {},
   "outputs": [],
   "source": [
    "mae_baseline = mean_absolute_error(y_train, y_pred_baseline)\n",
    "\n",
    "print(\"Mean house price\", round(y_mean, 2))\n",
    "print(\"Baseline MAE:\", round(mae_baseline, 2))\n",
    "print(\"R-squared: \", round(r2_score(y_true=y_train, y_pred=y_pred_baseline), 4))"
   ]
  },
  {
   "cell_type": "markdown",
   "id": "a2872c36-3a55-487f-8ba9-00d27b5ce19e",
   "metadata": {},
   "source": [
    "### Visual representation of the baseline model"
   ]
  },
  {
   "cell_type": "code",
   "execution_count": null,
   "id": "7a5e5c64-182d-49f2-8672-f45a0bca80c8",
   "metadata": {},
   "outputs": [],
   "source": [
    "sns.scatterplot(x=X_train['Avg. Area House Age'], y=y_train, color='yellow', edgecolor='black', s=50)\n",
    "plt.plot(X_train['Avg. Area House Age'], y_pred_baseline, color='red', label='Dummy Model')\n",
    "\n",
    "plt.legend()\n",
    "plt.show()"
   ]
  },
  {
   "cell_type": "markdown",
   "id": "a89d8712-e7a3-479e-9218-86fc71d9e80e",
   "metadata": {},
   "source": [
    "## Simple Linear Regression Model"
   ]
  },
  {
   "cell_type": "code",
   "execution_count": null,
   "id": "771b6aaf-0d9c-4015-be28-7d1dac94bdd1",
   "metadata": {},
   "outputs": [],
   "source": [
    "# Instanciate the model\n",
    "model = LinearRegression()\n",
    "\n",
    "# Fitting the model\n",
    "model.fit(X_train, y_train)"
   ]
  },
  {
   "cell_type": "code",
   "execution_count": null,
   "id": "538549e2-2600-4ce5-877c-cda93bcef88b",
   "metadata": {},
   "outputs": [],
   "source": [
    "y_pred_lm = model.predict(X_train)"
   ]
  },
  {
   "cell_type": "markdown",
   "id": "2ef64333-a2d2-44cd-a944-ad805873ee0c",
   "metadata": {},
   "source": [
    "### Performance Metrics: Simple Linear Regression Model"
   ]
  },
  {
   "cell_type": "code",
   "execution_count": null,
   "id": "e8a534b3-6c63-45d1-b10e-fd362109751d",
   "metadata": {},
   "outputs": [],
   "source": [
    "mae_lm = mean_absolute_error(y_train, y_pred_lm)\n",
    "\n",
    "print(\"Mean house price\", round(y_mean, 2))\n",
    "print(\"Baseline MAE:\", round(mae_lm, 2))\n",
    "print(\"R-squared: \", round(r2_score(y_true=y_train, y_pred=y_pred_lm), 4))"
   ]
  },
  {
   "cell_type": "markdown",
   "id": "8fca4f9f-6b7b-4433-9827-4c3122430b26",
   "metadata": {},
   "source": [
    "It looks like our model performs a little better than the baseline. 🎉🎉\n",
    "\n",
    "Now let's check our test performance. Remember, once we test our model, there's no more iteration allowed. "
   ]
  },
  {
   "cell_type": "markdown",
   "id": "a504f4a4-7ef9-4848-b6ce-62a51edfadf1",
   "metadata": {},
   "source": [
    "### Visual representation of the Simple Linear Regression Model"
   ]
  },
  {
   "cell_type": "code",
   "execution_count": null,
   "id": "cf0c6ff8-a707-4775-b8ff-9d61df010acd",
   "metadata": {},
   "outputs": [],
   "source": [
    "sns.scatterplot(x=X_train['Avg. Area House Age'], y=y_train, color='yellow', edgecolor='black', s=50)\n",
    "plt.plot(X_train['Avg. Area House Age'], y_pred_lm, color='red', label='Linear Model')\n",
    "# plt.plot(X_train['Avg. Area House Age'], y_pred_baseline, color='blue', label='Dummy Model')\n",
    "\n",
    "\n",
    "plt.legend()\n",
    "plt.show()"
   ]
  },
  {
   "cell_type": "markdown",
   "id": "4bab22c4-049c-440a-8af3-c3d01793252c",
   "metadata": {},
   "source": [
    "# Communicate Results"
   ]
  },
  {
   "cell_type": "markdown",
   "id": "54a50615-de9e-4e49-87af-a81204fb169f",
   "metadata": {},
   "source": [
    "Let's take a look at the equation our model has come up with for predicting `Price` based on `Avg. Area House Age`.\n",
    "\n",
    "<center><img src=\"../images/proj-2.005_single.png\" alt=\"Equation: y = beta 0 + beta 1 * x\" style=\"width: 400px;\"/></center> "
   ]
  },
  {
   "cell_type": "code",
   "execution_count": null,
   "id": "8922c750-462f-4233-a975-8d20886e263e",
   "metadata": {},
   "outputs": [],
   "source": [
    "intercept    = model.intercept_\n",
    "coefficients = model.coef_\n",
    "\n",
    "print(\n",
    "    f\"Price = {np.round(intercept, 2)} + ({np.round(coefficients[0], 2)} * Avg. Area House Age) \"\n",
    ")"
   ]
  },
  {
   "cell_type": "markdown",
   "id": "ddae14db-9dcb-4299-8c38-09dac47af01f",
   "metadata": {},
   "source": [
    "## Model Deployment"
   ]
  },
  {
   "cell_type": "code",
   "execution_count": null,
   "id": "e41c8963-0966-4334-af45-dcbfddac4d29",
   "metadata": {},
   "outputs": [],
   "source": [
    "from ipywidgets import Dropdown, FloatSlider, IntSlider, interact"
   ]
  },
  {
   "cell_type": "code",
   "execution_count": null,
   "id": "6a795f1c-edfe-41fc-90a2-29f01c04934b",
   "metadata": {},
   "outputs": [],
   "source": [
    "def make_prediction(house_age):\n",
    "    data = {\n",
    "        \"Avg. Area House Age\" : house_age\n",
    "    }\n",
    "    \n",
    "    df = pd.DataFrame(data, index=[0])\n",
    "    prediction = model.predict(df).round(2)[0]\n",
    "    \n",
    "    return f\"Predicted house price: ~ ${prediction}\""
   ]
  },
  {
   "cell_type": "code",
   "execution_count": null,
   "id": "f44bc665-ff0f-4ea8-966e-99848b425aa5",
   "metadata": {},
   "outputs": [],
   "source": [
    "make_prediction(5)"
   ]
  },
  {
   "cell_type": "code",
   "execution_count": null,
   "id": "57c0041f-9a1d-4431-bb30-11e1f43aee34",
   "metadata": {},
   "outputs": [],
   "source": [
    "interact(\n",
    "    make_prediction,\n",
    "    house_age=IntSlider(\n",
    "        min=0,\n",
    "        max=50,\n",
    "        value=X_train[\"Avg. Area House Age\"].mean()\n",
    "    )\n",
    ");"
   ]
  },
  {
   "cell_type": "markdown",
   "id": "af5743e1-b962-41ad-b039-0ffe081b14ee",
   "metadata": {},
   "source": [
    "# Prepare Data"
   ]
  },
  {
   "cell_type": "markdown",
   "id": "8efea29b-1d73-4062-9780-a762ea316aeb",
   "metadata": {},
   "source": [
    "## Specifying our 3D dataset"
   ]
  },
  {
   "cell_type": "code",
   "execution_count": null,
   "id": "38fbb62f-ab48-41e2-aa51-bcd82ec03ba9",
   "metadata": {},
   "outputs": [],
   "source": [
    "df_3d = df[['Avg. Area House Age', 'Avg. Area Number of Rooms', 'Price']]"
   ]
  },
  {
   "cell_type": "code",
   "execution_count": null,
   "id": "dddb3d8c-0f85-4f02-b45d-d36092177b2f",
   "metadata": {},
   "outputs": [],
   "source": [
    "df_3d.describe()"
   ]
  },
  {
   "cell_type": "markdown",
   "id": "a60786da-da10-4989-8c5f-799412336b89",
   "metadata": {},
   "source": [
    "Examining the distribution of our data features"
   ]
  },
  {
   "cell_type": "code",
   "execution_count": null,
   "id": "36ebc857-5065-4e5e-a823-b5cfc2609b7c",
   "metadata": {},
   "outputs": [],
   "source": [
    "fig, ax = plt.subplots(1, 3, figsize=(15, 5))\n",
    "ax_flat = ax.flatten()\n",
    "\n",
    "sns.kdeplot(data=df_3d, x='Avg. Area Number of Rooms', color='yellow', fill=True, ax=ax_flat[0])\n",
    "sns.kdeplot(data=df_3d, x='Avg. Area House Age'      , color='orange', fill=True, ax=ax_flat[1])\n",
    "sns.kdeplot(data=df_3d, x='Price'                    , color='blue'  , fill=True, ax=ax_flat[2])\n",
    "    \n",
    "plt.show()"
   ]
  },
  {
   "cell_type": "markdown",
   "id": "4233f5bb-ad5e-4407-ac3e-feaf21ac70a1",
   "metadata": {},
   "source": [
    "## Explore: Visual analytics methods"
   ]
  },
  {
   "cell_type": "code",
   "execution_count": null,
   "id": "64f422c8-9fe6-4f31-b1b6-a0e23aa5b8b2",
   "metadata": {},
   "outputs": [],
   "source": [
    "import plotly.express as px\n",
    "import plotly.graph_objects as go"
   ]
  },
  {
   "cell_type": "code",
   "execution_count": null,
   "id": "cc276326-679f-4213-8c5a-63394c566f94",
   "metadata": {},
   "outputs": [],
   "source": [
    "# Create 3D scatter plot\n",
    "fig = px.scatter_3d(\n",
    "    data_frame=df_3d,\n",
    "    x='Avg. Area House Age',\n",
    "    y='Avg. Area Number of Rooms',\n",
    "    z='Price',\n",
    "    color_discrete_sequence=['yellow'],\n",
    "    width=700,\n",
    "    height=600,\n",
    ")\n",
    "\n",
    "# Refine formatting\n",
    "fig.update_traces(\n",
    "    marker={\"size\": 4, \"line\": {\"width\": 2, \"color\": \"DarkSlateGrey\"}},\n",
    "    selector={\"mode\": \"markers\"},\n",
    ")\n",
    "\n",
    "# Display figure\n",
    "fig.show()"
   ]
  },
  {
   "cell_type": "markdown",
   "id": "363921c8-c232-4022-8a0b-db463e231e6e",
   "metadata": {},
   "source": [
    "## Splitting our data"
   ]
  },
  {
   "cell_type": "code",
   "execution_count": null,
   "id": "a53b71b6-fbbd-4b9b-b98d-0eae672fd027",
   "metadata": {},
   "outputs": [],
   "source": [
    "feature_matrix_3d = df[['Avg. Area Number of Rooms', 'Avg. Area House Age']]\n",
    "target_vector_3d = df['Price']\n",
    "\n",
    "print(f\"Feature Matrix: {feature_matrix_3d.shape}\",\n",
    "      f\"Target Vector: {target_vector_3d.shape}\",\n",
    "      sep='\\n')"
   ]
  },
  {
   "cell_type": "markdown",
   "id": "b230fd1f-40c1-4d45-a51f-50a54e7dbb9d",
   "metadata": {},
   "source": [
    "# Building the model"
   ]
  },
  {
   "cell_type": "markdown",
   "id": "c50bacc9-1674-45fe-9715-feb8593f34ee",
   "metadata": {},
   "source": [
    "Train-Test Split"
   ]
  },
  {
   "cell_type": "code",
   "execution_count": null,
   "id": "65642993-33ef-4a27-8906-13c66ee20f67",
   "metadata": {},
   "outputs": [],
   "source": [
    "X_train_3d, X_test_3d, y_train_3d, y_test_3d = train_test_split(feature_matrix_3d,\n",
    "                                                    target_vector_3d,\n",
    "                                                    train_size=0.8,\n",
    "                                                    random_state=7)"
   ]
  },
  {
   "cell_type": "markdown",
   "id": "954e0235-5d01-4700-99d3-6c8664882420",
   "metadata": {},
   "source": [
    "## Baseline Model"
   ]
  },
  {
   "cell_type": "code",
   "execution_count": null,
   "id": "7c7a6157-c32a-41dc-bef6-addce4992e4a",
   "metadata": {},
   "outputs": [],
   "source": [
    "y_mean_3d = np.mean(y_train_3d)\n",
    "\n",
    "# dummy model predictions\n",
    "y_pred_baseline_3d = [y_mean_3d] * len(y_train_3d)"
   ]
  },
  {
   "cell_type": "markdown",
   "id": "2e4f26cb-c943-4cf0-bc9b-952ef42a7256",
   "metadata": {},
   "source": [
    "## Performance Metrics: Baseline Model"
   ]
  },
  {
   "cell_type": "code",
   "execution_count": null,
   "id": "278e7599-137b-4135-99de-935992bd9aa4",
   "metadata": {},
   "outputs": [],
   "source": [
    "mae_baseline_3d = mean_absolute_error(y_train_3d, y_pred_baseline_3d)\n",
    "\n",
    "print(\"Mean house price\", round(y_mean_3d, 2))\n",
    "print(\"Baseline MAE:\", round(mae_baseline_3d, 2))\n",
    "print(\"R-squared: \", round(r2_score(y_true=y_train_3d, y_pred=y_pred_baseline_3d), 4))"
   ]
  },
  {
   "cell_type": "markdown",
   "id": "1afd552e-7770-415d-bfda-d113270fef93",
   "metadata": {},
   "source": [
    "## Visual representation of the baseline model"
   ]
  },
  {
   "cell_type": "code",
   "execution_count": null,
   "id": "1912b125-cd79-476c-b0ce-17ffdeb544be",
   "metadata": {},
   "outputs": [],
   "source": [
    "# Create 3D scatter plot\n",
    "fig = px.scatter_3d(\n",
    "    data_frame=df_3d,\n",
    "    x='Avg. Area House Age',\n",
    "    y='Avg. Area Number of Rooms',\n",
    "    z='Price',\n",
    "    color_discrete_sequence=['yellow'],\n",
    "    width=700,\n",
    "    height=600,\n",
    ")\n",
    "\n",
    "# Create x and y coordinates for model representation\n",
    "x_plane = np.linspace(df_3d[\"Avg. Area House Age\"].min(), df_3d[\"Avg. Area House Age\"].max(), 10)\n",
    "y_plane = np.linspace(df_3d[\"Avg. Area Number of Rooms\"].min(), df_3d[\"Avg. Area Number of Rooms\"].max(), 10)\n",
    "\n",
    "xx, yy = np.meshgrid(x_plane, y_plane)\n",
    "\n",
    "# z coordinates\n",
    "z_plane = np.linspace(y_pred_baseline_3d[0], 10)\n",
    "\n",
    "\n",
    "zz = np.tile(z_plane, (10, 1))\n",
    "\n",
    "# Add plane to figure\n",
    "fig.add_trace(go.Surface(x=xx, y=yy, z=zz))\n",
    "\n",
    "\n",
    "# Refine formatting\n",
    "fig.update_traces(\n",
    "    marker={\"size\": 4, \"line\": {\"width\": 2, \"color\": \"DarkSlateGrey\"}},\n",
    "    selector={\"mode\": \"markers\"},\n",
    ")\n",
    "\n",
    "# Display figure\n",
    "fig.show()"
   ]
  },
  {
   "cell_type": "markdown",
   "id": "e67d1ff5-05f4-4cb2-995f-738cf8fc71aa",
   "metadata": {},
   "source": [
    "# Multiple Linear Regression Model"
   ]
  },
  {
   "cell_type": "code",
   "execution_count": null,
   "id": "dee4a052-3be0-4169-bfed-a169431271cb",
   "metadata": {},
   "outputs": [],
   "source": [
    "# Instanciate the model\n",
    "model_3d = LinearRegression()\n",
    "\n",
    "# Fitting the model\n",
    "model_3d.fit(X_train_3d, y_train_3d)"
   ]
  },
  {
   "cell_type": "code",
   "execution_count": null,
   "id": "9923ab5d-c5d5-43a9-9466-c5e53a01f16c",
   "metadata": {},
   "outputs": [],
   "source": [
    "y_pred_lm_3d = model_3d.predict(X_train_3d)"
   ]
  },
  {
   "cell_type": "markdown",
   "id": "95895e67-ee84-4bea-bf17-08b748fef70a",
   "metadata": {},
   "source": [
    "### Performance Metrics: Multiple Linear Regression Model"
   ]
  },
  {
   "cell_type": "code",
   "execution_count": null,
   "id": "536556ca-6950-4975-870f-67019c8a2d48",
   "metadata": {},
   "outputs": [],
   "source": [
    "mae_lm_3d = mean_absolute_error(y_train_3d, y_pred_lm_3d)\n",
    "\n",
    "print(\"Mean house price\", round(y_mean_3d, 2))\n",
    "print(\"Baseline MAE:\", round(mae_lm_3d, 2))\n",
    "print(\"R-squared: \", round(r2_score(y_true=y_train_3d, y_pred=y_pred_lm_3d), 4))"
   ]
  },
  {
   "cell_type": "markdown",
   "id": "db2fc336-bd8a-4cac-8104-b2ddc0eaeb7a",
   "metadata": {},
   "source": [
    "It looks like our model performs a little better than the baseline. 🎉\n",
    "\n",
    "Now let's check our test performance. Remember, once we test our model, there's no more iteration allowed. "
   ]
  },
  {
   "cell_type": "markdown",
   "id": "60a52697-d7db-4045-836a-36516daef032",
   "metadata": {},
   "source": [
    "### Visual representation of the Multiple Linear Regression Model"
   ]
  },
  {
   "cell_type": "code",
   "execution_count": null,
   "id": "bc07c12b-8902-46c1-be15-9ca66c4bd962",
   "metadata": {},
   "outputs": [],
   "source": [
    "# Create 3D scatter plot\n",
    "fig = px.scatter_3d(\n",
    "    data_frame=df_3d,\n",
    "    x='Avg. Area House Age',\n",
    "    y='Avg. Area Number of Rooms',\n",
    "    z='Price',\n",
    "    color_discrete_sequence=['yellow'],\n",
    "    width=700,\n",
    "    height=600,\n",
    ")\n",
    "\n",
    "# Create x and y coordinates for model representation\n",
    "x_plane = np.linspace(df_3d[\"Avg. Area House Age\"].min(), df_3d[\"Avg. Area House Age\"].max(), 10)\n",
    "y_plane = np.linspace(df_3d[\"Avg. Area Number of Rooms\"].min(), df_3d[\"Avg. Area Number of Rooms\"].max(), 10)\n",
    "\n",
    "xx, yy = np.meshgrid(x_plane, y_plane)\n",
    "\n",
    "# Use model to predict z coordinates\n",
    "z_plane = model_3d.predict(pd.DataFrame({ \"Avg. Area Number of Rooms\": y_plane, \"Avg. Area House Age\": x_plane}))\n",
    "\n",
    "\n",
    "zz = np.tile(z_plane, (10, 1))\n",
    "\n",
    "# Add plane to figure\n",
    "fig.add_trace(go.Surface(x=xx, y=yy, z=zz))\n",
    "\n",
    "\n",
    "# Refine formatting\n",
    "fig.update_traces(\n",
    "    marker={\"size\": 4, \"line\": {\"width\": 2, \"color\": \"DarkSlateGrey\"}},\n",
    "    selector={\"mode\": \"markers\"},\n",
    ")\n",
    "\n",
    "# Display figure\n",
    "fig.show()"
   ]
  },
  {
   "cell_type": "markdown",
   "id": "451fd5fd-7b3e-4d51-92bb-7807b0f6a646",
   "metadata": {},
   "source": [
    "# Communicate Results"
   ]
  },
  {
   "cell_type": "markdown",
   "id": "fc0dd234-0e83-43ad-b860-dc3e612ad998",
   "metadata": {},
   "source": [
    "Let's take a look at the equation our model has come up with for predicting `Price` based on `Avg. Area House Age` and `Avg. Area Number of Rooms`.\n",
    "\n",
    "<center><img src=\"../images/proj-2.005_3d.png\" alt=\"Equation: y = beta 0 + beta 1 * x\" style=\"width: 400px;\"/></center>"
   ]
  },
  {
   "cell_type": "code",
   "execution_count": null,
   "id": "4897f49f-1f9a-487c-8dee-22d8a880207a",
   "metadata": {},
   "outputs": [],
   "source": [
    "intercept    = model_3d.intercept_\n",
    "coefficients = model_3d.coef_\n",
    "\n",
    "print(\n",
    "    f\"Price = {np.round(intercept, 2)} \"\n",
    "    f\"+ ({np.round(coefficients[0], 2)} * Avg. Area Number of Rooms) \"\n",
    "    f\"+ ({np.round(coefficients[1], 2)} * Avg. Area House Age) \"\n",
    ")"
   ]
  },
  {
   "cell_type": "markdown",
   "id": "3e85ebea-97db-4356-a5b1-a894361902a1",
   "metadata": {},
   "source": [
    " "
   ]
  },
  {
   "cell_type": "markdown",
   "id": "04bc76a9-18ce-43ef-816f-cce3c2a1395f",
   "metadata": {},
   "source": [
    "## Model Deployment"
   ]
  },
  {
   "cell_type": "code",
   "execution_count": null,
   "id": "f4f74638-3375-46fd-b2b6-e51caea9fce9",
   "metadata": {},
   "outputs": [],
   "source": [
    "def make_prediction_3d(house_rooms, house_age):\n",
    "    data = {\n",
    "        \"Avg. Area Number of Rooms\" : house_rooms,\n",
    "        \"Avg. Area House Age\" : house_age,\n",
    "    }\n",
    "    \n",
    "    df = pd.DataFrame(data, index=[0])\n",
    "    prediction = model_3d.predict(df).round(2)[0]\n",
    "    \n",
    "    return f\"Predicted house price: ~ ${prediction}\""
   ]
  },
  {
   "cell_type": "code",
   "execution_count": null,
   "id": "41b46458-be64-427d-b2ff-6b092f7e24cf",
   "metadata": {},
   "outputs": [],
   "source": [
    "make_prediction_3d(3, 5)"
   ]
  },
  {
   "cell_type": "code",
   "execution_count": null,
   "id": "61b4996a-854c-419d-9dfe-8314e05bb0f3",
   "metadata": {},
   "outputs": [],
   "source": [
    "interact(\n",
    "    make_prediction_3d,\n",
    "    house_age=IntSlider(\n",
    "        min=0,\n",
    "        max=50,\n",
    "        value=X_train_3d[\"Avg. Area House Age\"].mean()\n",
    "    ),\n",
    "    house_rooms=IntSlider(\n",
    "        min=0,\n",
    "        max=10,\n",
    "        value=3\n",
    "    )\n",
    ");"
   ]
  },
  {
   "cell_type": "markdown",
   "id": "f9b4a954-b3b1-437b-9146-b5c9b6e565aa",
   "metadata": {},
   "source": [
    " "
   ]
  },
  {
   "cell_type": "markdown",
   "id": "282dd46c-e9ad-47c0-9d41-30c9ab88d4f6",
   "metadata": {},
   "source": [
    "# Assessing model accuracy"
   ]
  },
  {
   "cell_type": "code",
   "execution_count": null,
   "id": "13155122-419e-4f78-863b-b51a27db9553",
   "metadata": {},
   "outputs": [],
   "source": [
    "# dictionary of results\n",
    "results_dict = {'Training RMSE':\n",
    "                    {\n",
    "                        \"SLR\": np.sqrt(mean_squared_error(y_train, model.predict(X_train))),\n",
    "                        \"MLR\": np.sqrt(mean_squared_error(y_train_3d, model_3d.predict(X_train_3d))),\n",
    "                        \"Diff\": (np.sqrt(mean_squared_error(y_train, model.predict(X_train)))\n",
    "                                - np.sqrt(mean_squared_error(y_train_3d, model_3d.predict(X_train_3d))))\n",
    "                    },\n",
    "                'Test RMSE':\n",
    "                    {\n",
    "                        \"SLR\": np.sqrt(mean_squared_error(y_test, model.predict(X_test))),\n",
    "                        \"MLR\": np.sqrt(mean_squared_error(y_test_3d, model_3d.predict(X_test_3d))),\n",
    "                        \"Diff\": (np.sqrt(mean_squared_error(y_test, model.predict(X_test)))\n",
    "                                - np.sqrt(mean_squared_error(y_test_3d, model_3d.predict(X_test_3d))))\n",
    "                    },\n",
    "                'Training MAE':\n",
    "                    {\n",
    "                        \"SLR\": mean_absolute_error(y_train, model.predict(X_train)),\n",
    "                        \"MLR\": mean_absolute_error(y_train_3d, model_3d.predict(X_train_3d)),\n",
    "                        \"Diff\": (mean_absolute_error(y_train, model.predict(X_train))\n",
    "                                - mean_absolute_error(y_train_3d, model_3d.predict(X_train_3d)))\n",
    "                    },\n",
    "                'Test MAE':\n",
    "                    {\n",
    "                        \"SLR\": mean_absolute_error(y_test, model.predict(X_test)),\n",
    "                        \"MLR\": mean_absolute_error(y_test_3d, model_3d.predict(X_test_3d)),\n",
    "                        \"Diff\": (mean_absolute_error(y_test, model.predict(X_test))\n",
    "                                - mean_absolute_error(y_test_3d, model_3d.predict(X_test_3d)))\n",
    "                    },\n",
    "                'R-squared':\n",
    "                    {\n",
    "                        \"SLR\": round(r2_score(y_true=y_train, y_pred=y_pred_lm), 4),\n",
    "                        \"MLR\": round(r2_score(y_true=y_train_3d, y_pred=y_pred_lm_3d), 4),\n",
    "                        \"Diff\": ( - round(r2_score(y_true=y_train, y_pred=y_pred_lm), 4)\n",
    "                                 + round(r2_score(y_true=y_train_3d, y_pred=y_pred_lm_3d), 4))\n",
    "                    }\n",
    "                }"
   ]
  },
  {
   "cell_type": "code",
   "execution_count": null,
   "id": "89632290-df87-4e44-9f50-54dc785c4db1",
   "metadata": {},
   "outputs": [],
   "source": [
    "results_df = pd.DataFrame(data=results_dict); results_df"
   ]
  },
  {
   "cell_type": "markdown",
   "id": "07d42f21-784b-4ec7-b94d-12dde9589a35",
   "metadata": {},
   "source": [
    "It appears that adding more predictors to our model helped us make it a litte bit better!"
   ]
  },
  {
   "cell_type": "markdown",
   "id": "0e5b9f82-ffb5-462a-a9ec-ed63db1d898b",
   "metadata": {},
   "source": [
    "Are these metrics enough to assess the quality of our model?\n",
    "What can be done to make our"
   ]
  },
  {
   "cell_type": "markdown",
   "id": "c2fd78cc-f0df-472b-9523-c4b7cdd7fe2d",
   "metadata": {},
   "source": [
    "# **“All Models are wrong, but some are useful.”**\n",
    "***George Box***"
   ]
  }
 ],
 "metadata": {
  "kernelspec": {
   "display_name": "Python 3 (ipykernel)",
   "language": "python",
   "name": "python3"
  },
  "language_info": {
   "codemirror_mode": {
    "name": "ipython",
    "version": 3
   },
   "file_extension": ".py",
   "mimetype": "text/x-python",
   "name": "python",
   "nbconvert_exporter": "python",
   "pygments_lexer": "ipython3",
   "version": "3.11.8"
  },
  "widgets": {
   "application/vnd.jupyter.widget-state+json": {
    "state": {},
    "version_major": 2,
    "version_minor": 0
   }
  }
 },
 "nbformat": 4,
 "nbformat_minor": 5
}
