{
 "cells": [
  {
   "cell_type": "markdown",
   "id": "71c49828-21be-440c-97b6-a1468e25c402",
   "metadata": {},
   "source": [
    "# Solution Seekers Group\n",
    "\n",
    "Lead of the Study Group Discussion: **Badr Bensassi**\n",
    "\n",
    "Author: **Youssef Laouina**\n"
   ]
  },
  {
   "cell_type": "markdown",
   "id": "f2529314-500a-4121-bc3a-55ce83dd5bfe",
   "metadata": {},
   "source": [
    " "
   ]
  },
  {
   "cell_type": "markdown",
   "id": "ff191d57-48bb-4454-a98a-c4326ca69cac",
   "metadata": {},
   "source": [
    "> **“All Models are wrong, but some are useful.”**\n",
    "\n",
    "*George Box*"
   ]
  },
  {
   "cell_type": "markdown",
   "id": "3ff2e063-c371-402f-a23b-23fc54df0691",
   "metadata": {},
   "source": [
    " "
   ]
  },
  {
   "cell_type": "markdown",
   "id": "cc122471-eba1-4352-83a3-9ea6b0901200",
   "metadata": {},
   "source": [
    "# Prepare Data"
   ]
  },
  {
   "cell_type": "markdown",
   "id": "89395d66-5b0b-4fa9-8bff-c73dbdc39bc2",
   "metadata": {},
   "source": [
    "Importing our libraries"
   ]
  },
  {
   "cell_type": "code",
   "execution_count": null,
   "id": "3a16bcb1-fea7-4db1-8f53-af305ff14bba",
   "metadata": {},
   "outputs": [],
   "source": [
    "import warnings\n",
    "\n",
    "import pandas as pd\n",
    "import matplotlib.pyplot as plt\n",
    "import seaborn as sns\n",
    "import pickle\n",
    "from sklearn.model_selection import train_test_split\n",
    "\n",
    "warnings.simplefilter(action=\"ignore\", category=FutureWarning)"
   ]
  },
  {
   "cell_type": "markdown",
   "id": "5f251d11-8449-4b7b-bde8-d9f4c69bd698",
   "metadata": {},
   "source": [
    "## Importing our data into a Pandas DataFrame"
   ]
  },
  {
   "cell_type": "code",
   "execution_count": null,
   "id": "fe9fbfeb-8e59-4419-9ad0-7eb270d02c42",
   "metadata": {},
   "outputs": [],
   "source": [
    "df = pd.read_csv(\n",
    "    'https://raw.githubusercontent.com/tirthajyoti/Machine-Learning-with-Python/master/Datasets/USA_Housing.csv', index_col=False)"
   ]
  },
  {
   "cell_type": "code",
   "execution_count": null,
   "id": "455ac0c9-8772-4924-a174-81904993d6e6",
   "metadata": {},
   "outputs": [],
   "source": [
    "df.info()"
   ]
  },
  {
   "cell_type": "code",
   "execution_count": null,
   "id": "b7834a2d-2e28-463b-bd7f-423db081c05e",
   "metadata": {},
   "outputs": [],
   "source": [
    "df.head()"
   ]
  },
  {
   "cell_type": "markdown",
   "id": "5d640401-ed2e-40ef-b8da-a0759809b4f6",
   "metadata": {},
   "source": [
    "# Residuals Analysis: 2D dataset"
   ]
  },
  {
   "cell_type": "code",
   "execution_count": null,
   "id": "8e65bcb7-3b24-44c9-85ab-653b06146e9c",
   "metadata": {},
   "outputs": [],
   "source": [
    "df_2d = df[['Avg. Area House Age', 'Price']]\n",
    "\n",
    "feature_matrix = df_2d[['Avg. Area House Age']]\n",
    "target_vector = df_2d['Price']\n",
    "\n",
    "print(f\"Feature Matrix: {feature_matrix.shape}\",\n",
    "      f\"Target Vector: {target_vector.shape}\",\n",
    "      sep='\\n')"
   ]
  },
  {
   "cell_type": "code",
   "execution_count": null,
   "id": "ee03fdf9-9c8d-4373-995c-8279fe1e94af",
   "metadata": {},
   "outputs": [],
   "source": [
    "X_train, X_test, y_train, y_test = train_test_split(feature_matrix,\n",
    "                                                    target_vector,\n",
    "                                                    train_size=0.8,\n",
    "                                                    random_state=7)"
   ]
  },
  {
   "cell_type": "markdown",
   "id": "a632474c-3042-4a6f-8057-ae35944b0573",
   "metadata": {},
   "source": [
    "## Restoring the model with Pickle\n"
   ]
  },
  {
   "cell_type": "code",
   "execution_count": null,
   "id": "3ad88813-4e8b-4a05-980a-3d9b72c05c90",
   "metadata": {},
   "outputs": [],
   "source": [
    "# restore the model just like we would read a file\n",
    "model_load_path = \"slr_model.pkl\"\n",
    "\n",
    "with open(model_load_path,'rb') as file:\n",
    "    unpickled_model = pickle.load(file)"
   ]
  },
  {
   "cell_type": "markdown",
   "id": "65f767f3-a7fa-4841-8db1-cdf222910973",
   "metadata": {},
   "source": [
    "### Using the model file to make predictions\n"
   ]
  },
  {
   "cell_type": "code",
   "execution_count": null,
   "id": "fed8eda9-9187-4dba-b3f7-d4b2077a4292",
   "metadata": {},
   "outputs": [],
   "source": [
    "# get predictions from unpickled model\n",
    "y_pred_lm_train = unpickled_model.predict(X_train)"
   ]
  },
  {
   "cell_type": "markdown",
   "id": "6297fccc-c18f-4160-974a-c5899bffa30c",
   "metadata": {},
   "source": [
    "**Let's check the calculated fit of the line** by measuring how far the true y-values of each point are from their corresponding y-value on the line.   \n",
    "   \n",
    "We'll use the equation below to calculate the error of each generated value of y:   \n",
    "   \n",
    "$$e_i = y_i - \\hat{y}_i$$   \n",
    "   "
   ]
  },
  {
   "cell_type": "code",
   "execution_count": null,
   "id": "197ee45f-a5c1-4e26-9c80-10c7b8f5b6b0",
   "metadata": {},
   "outputs": [],
   "source": [
    "residuals = y_train - y_pred_lm_train"
   ]
  },
  {
   "cell_type": "markdown",
   "id": "eb9edd04-5af9-41df-93d7-7502eeb47263",
   "metadata": {},
   "source": [
    "## Visualizing Residuals"
   ]
  },
  {
   "cell_type": "code",
   "execution_count": null,
   "id": "4ebed95f-a1b9-4176-9f41-89951ab7baa1",
   "metadata": {},
   "outputs": [],
   "source": [
    "sns.histplot(residuals, kde=True, color='orange', fill=True)\n",
    "plt.title(\"Residuals' Distribution\")\n",
    "plt.xlabel('Residuals')\n",
    "plt.show()"
   ]
  },
  {
   "cell_type": "markdown",
   "id": "902d4793-930b-4ccc-8d29-20ff3c43e76f",
   "metadata": {},
   "source": [
    "### Fitted vs. residuals plot to check homoscedasticity"
   ]
  },
  {
   "cell_type": "code",
   "execution_count": null,
   "id": "e1222c47-50e6-4072-9e48-ea3149907b62",
   "metadata": {},
   "outputs": [],
   "source": [
    "sns.scatterplot(x=y_pred_lm_train, y=residuals, color='yellow', edgecolor='black', s=80, label='Fitted values')\n",
    "plt.axhline(0, color='red')\n",
    "plt.title('Residuals vs. Fitted values')\n",
    "plt.ylabel('Residuals')\n",
    "plt.xlabel('Fitted Values')\n",
    "\n",
    "plt.legend()\n",
    "plt.show()"
   ]
  },
  {
   "cell_type": "markdown",
   "id": "2ee8b90e-55e5-47da-a7d6-eb124ca7e215",
   "metadata": {},
   "source": [
    "### Residual Sum of Squares"
   ]
  },
  {
   "cell_type": "markdown",
   "id": "ea353cb6-3334-499d-93dd-92b88c0254cf",
   "metadata": {},
   "source": [
    " Now we will measure the overall error of the fit by calculating the **Residual Sum of Squares**:\n",
    "   \n",
    "$$RSS = \\sum_{i=1}^n(y_i-\\hat{y}_i)^2$$"
   ]
  },
  {
   "cell_type": "code",
   "execution_count": null,
   "id": "63ce0294-094e-459d-b2b5-9b867cb17800",
   "metadata": {},
   "outputs": [],
   "source": [
    "print(\"Residual sum of squares:\", (residuals ** 2).sum())"
   ]
  },
  {
   "cell_type": "markdown",
   "id": "16166ad4-e628-4287-9a34-4bd3174a53c7",
   "metadata": {},
   "source": [
    "**Note:** The RSS is influenced by the scale of the data being forecasted, meaning that for forecasts involving large values, such as in billions, the RSS will also likely be a large number, reflecting the squared deviations of these large values."
   ]
  },
  {
   "cell_type": "code",
   "execution_count": null,
   "id": "e6ada336-cda1-4680-97ff-600f2668e76d",
   "metadata": {},
   "outputs": [],
   "source": []
  },
  {
   "cell_type": "code",
   "execution_count": null,
   "id": "a14254aa-fcb8-4804-9bbf-e111012b28db",
   "metadata": {},
   "outputs": [],
   "source": []
  },
  {
   "cell_type": "code",
   "execution_count": null,
   "id": "381e2f12-4598-4c3b-aa9f-e7d3eb1bc830",
   "metadata": {},
   "outputs": [],
   "source": []
  }
 ],
 "metadata": {
  "kernelspec": {
   "display_name": "Python 3 (ipykernel)",
   "language": "python",
   "name": "python3"
  },
  "language_info": {
   "codemirror_mode": {
    "name": "ipython",
    "version": 3
   },
   "file_extension": ".py",
   "mimetype": "text/x-python",
   "name": "python",
   "nbconvert_exporter": "python",
   "pygments_lexer": "ipython3",
   "version": "3.11.8"
  }
 },
 "nbformat": 4,
 "nbformat_minor": 5
}
