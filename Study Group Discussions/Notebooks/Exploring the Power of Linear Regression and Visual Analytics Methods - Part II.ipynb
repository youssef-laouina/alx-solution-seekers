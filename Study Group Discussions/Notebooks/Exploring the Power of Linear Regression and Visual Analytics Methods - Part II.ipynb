{
 "cells": [
  {
   "cell_type": "markdown",
   "id": "71c49828-21be-440c-97b6-a1468e25c402",
   "metadata": {},
   "source": [
    "# Solution Seekers Group\n",
    "\n",
    "Lead of the Study Group Discussion: **Badr Bensassi**\n",
    "\n",
    "Author: **Youssef Laouina**\n"
   ]
  },
  {
   "cell_type": "markdown",
   "id": "f2529314-500a-4121-bc3a-55ce83dd5bfe",
   "metadata": {},
   "source": [
    " "
   ]
  },
  {
   "cell_type": "markdown",
   "id": "ff191d57-48bb-4454-a98a-c4326ca69cac",
   "metadata": {},
   "source": [
    "> **“All Models are wrong, but some are useful.”**\n",
    "\n",
    "*George Box*"
   ]
  },
  {
   "cell_type": "code",
   "execution_count": null,
   "id": "46662267-6d11-453f-8376-1bcbe2da98bc",
   "metadata": {},
   "outputs": [],
   "source": []
  },
  {
   "cell_type": "code",
   "execution_count": null,
   "id": "3a16bcb1-fea7-4db1-8f53-af305ff14bba",
   "metadata": {},
   "outputs": [],
   "source": []
  },
  {
   "cell_type": "code",
   "execution_count": null,
   "id": "f144f636-3d80-4c0a-9052-05113fe9ad92",
   "metadata": {},
   "outputs": [],
   "source": []
  }
 ],
 "metadata": {
  "kernelspec": {
   "display_name": "Python 3 (ipykernel)",
   "language": "python",
   "name": "python3"
  },
  "language_info": {
   "codemirror_mode": {
    "name": "ipython",
    "version": 3
   },
   "file_extension": ".py",
   "mimetype": "text/x-python",
   "name": "python",
   "nbconvert_exporter": "python",
   "pygments_lexer": "ipython3",
   "version": "3.11.8"
  }
 },
 "nbformat": 4,
 "nbformat_minor": 5
}
