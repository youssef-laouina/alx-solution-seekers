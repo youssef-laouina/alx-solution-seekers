{
 "cells": [
  {
   "cell_type": "code",
   "execution_count": 1,
   "id": "3f9959f1-3bf8-4a4a-95f2-5e169873aafb",
   "metadata": {},
   "outputs": [],
   "source": [
    "import pandas as pd\n",
    "import numpy as np\n",
    "import matplotlib.pyplot as plt\n",
    "import seaborn as sns"
   ]
  },
  {
   "cell_type": "code",
   "execution_count": 2,
   "id": "631f6243-99ac-4fb6-bc02-26de647786fc",
   "metadata": {},
   "outputs": [],
   "source": [
    "df = pd.read_csv(\"./real-estate-buenos_aires.csv\", index_col=False)"
   ]
  },
  {
   "cell_type": "code",
   "execution_count": 3,
   "id": "cd7b2be0-2787-4748-ad74-8489805ff18f",
   "metadata": {},
   "outputs": [],
   "source": [
    "pd.options.display.float_format = '{:.2f}'.format"
   ]
  },
  {
   "cell_type": "code",
   "execution_count": 4,
   "id": "6a9fcce4-c120-469b-81e4-39ac52c9b106",
   "metadata": {},
   "outputs": [
    {
     "name": "stdout",
     "output_type": "stream",
     "text": [
      "<class 'pandas.core.frame.DataFrame'>\n",
      "RangeIndex: 8606 entries, 0 to 8605\n",
      "Data columns (total 16 columns):\n",
      " #   Column                      Non-Null Count  Dtype  \n",
      "---  ------                      --------------  -----  \n",
      " 0   operation                   8606 non-null   object \n",
      " 1   property_type               8606 non-null   object \n",
      " 2   place_with_parent_names     8606 non-null   object \n",
      " 3   lat-lon                     6936 non-null   object \n",
      " 4   price                       7590 non-null   float64\n",
      " 5   currency                    7590 non-null   object \n",
      " 6   price_aprox_local_currency  7590 non-null   float64\n",
      " 7   price_aprox_usd             7590 non-null   float64\n",
      " 8   surface_total_in_m2         5946 non-null   float64\n",
      " 9   surface_covered_in_m2       7268 non-null   float64\n",
      " 10  price_usd_per_m2            4895 non-null   float64\n",
      " 11  price_per_m2                6520 non-null   float64\n",
      " 12  floor                       1259 non-null   float64\n",
      " 13  rooms                       4752 non-null   float64\n",
      " 14  expenses                    875 non-null    object \n",
      " 15  properati_url               8606 non-null   object \n",
      "dtypes: float64(9), object(7)\n",
      "memory usage: 1.1+ MB\n"
     ]
    }
   ],
   "source": [
    "df.info()"
   ]
  },
  {
   "cell_type": "code",
   "execution_count": 5,
   "id": "33d83ff7-e708-4483-87bb-f8d30938e9b0",
   "metadata": {},
   "outputs": [
    {
     "data": {
      "text/html": [
       "<div>\n",
       "<style scoped>\n",
       "    .dataframe tbody tr th:only-of-type {\n",
       "        vertical-align: middle;\n",
       "    }\n",
       "\n",
       "    .dataframe tbody tr th {\n",
       "        vertical-align: top;\n",
       "    }\n",
       "\n",
       "    .dataframe thead th {\n",
       "        text-align: right;\n",
       "    }\n",
       "</style>\n",
       "<table border=\"1\" class=\"dataframe\">\n",
       "  <thead>\n",
       "    <tr style=\"text-align: right;\">\n",
       "      <th></th>\n",
       "      <th>count</th>\n",
       "      <th>mean</th>\n",
       "      <th>std</th>\n",
       "      <th>min</th>\n",
       "      <th>25%</th>\n",
       "      <th>50%</th>\n",
       "      <th>75%</th>\n",
       "      <th>max</th>\n",
       "    </tr>\n",
       "  </thead>\n",
       "  <tbody>\n",
       "    <tr>\n",
       "      <th>price</th>\n",
       "      <td>7590.00</td>\n",
       "      <td>298207.57</td>\n",
       "      <td>507458.57</td>\n",
       "      <td>0.00</td>\n",
       "      <td>95000.00</td>\n",
       "      <td>155000.00</td>\n",
       "      <td>300000.00</td>\n",
       "      <td>11111111.00</td>\n",
       "    </tr>\n",
       "    <tr>\n",
       "      <th>price_aprox_local_currency</th>\n",
       "      <td>7590.00</td>\n",
       "      <td>3591849.41</td>\n",
       "      <td>4758038.25</td>\n",
       "      <td>0.00</td>\n",
       "      <td>1364616.00</td>\n",
       "      <td>2228872.80</td>\n",
       "      <td>4018036.00</td>\n",
       "      <td>121299200.00</td>\n",
       "    </tr>\n",
       "    <tr>\n",
       "      <th>price_aprox_usd</th>\n",
       "      <td>7590.00</td>\n",
       "      <td>236891.88</td>\n",
       "      <td>313805.09</td>\n",
       "      <td>0.00</td>\n",
       "      <td>90000.00</td>\n",
       "      <td>147000.00</td>\n",
       "      <td>265000.00</td>\n",
       "      <td>8000000.00</td>\n",
       "    </tr>\n",
       "    <tr>\n",
       "      <th>surface_total_in_m2</th>\n",
       "      <td>5946.00</td>\n",
       "      <td>252.83</td>\n",
       "      <td>938.37</td>\n",
       "      <td>0.00</td>\n",
       "      <td>48.00</td>\n",
       "      <td>95.00</td>\n",
       "      <td>250.00</td>\n",
       "      <td>62034.00</td>\n",
       "    </tr>\n",
       "    <tr>\n",
       "      <th>surface_covered_in_m2</th>\n",
       "      <td>7268.00</td>\n",
       "      <td>140.32</td>\n",
       "      <td>764.09</td>\n",
       "      <td>0.00</td>\n",
       "      <td>46.00</td>\n",
       "      <td>76.50</td>\n",
       "      <td>160.00</td>\n",
       "      <td>62034.00</td>\n",
       "    </tr>\n",
       "    <tr>\n",
       "      <th>price_usd_per_m2</th>\n",
       "      <td>4895.00</td>\n",
       "      <td>1718.75</td>\n",
       "      <td>1577.02</td>\n",
       "      <td>0.00</td>\n",
       "      <td>916.67</td>\n",
       "      <td>1600.00</td>\n",
       "      <td>2186.13</td>\n",
       "      <td>54990.00</td>\n",
       "    </tr>\n",
       "    <tr>\n",
       "      <th>price_per_m2</th>\n",
       "      <td>6520.00</td>\n",
       "      <td>3732.99</td>\n",
       "      <td>12265.59</td>\n",
       "      <td>2.22</td>\n",
       "      <td>1450.00</td>\n",
       "      <td>1961.11</td>\n",
       "      <td>2677.71</td>\n",
       "      <td>450000.00</td>\n",
       "    </tr>\n",
       "    <tr>\n",
       "      <th>floor</th>\n",
       "      <td>1259.00</td>\n",
       "      <td>8.80</td>\n",
       "      <td>59.64</td>\n",
       "      <td>1.00</td>\n",
       "      <td>2.00</td>\n",
       "      <td>3.00</td>\n",
       "      <td>6.00</td>\n",
       "      <td>1503.00</td>\n",
       "    </tr>\n",
       "    <tr>\n",
       "      <th>rooms</th>\n",
       "      <td>4752.00</td>\n",
       "      <td>3.07</td>\n",
       "      <td>1.39</td>\n",
       "      <td>1.00</td>\n",
       "      <td>2.00</td>\n",
       "      <td>3.00</td>\n",
       "      <td>4.00</td>\n",
       "      <td>20.00</td>\n",
       "    </tr>\n",
       "  </tbody>\n",
       "</table>\n",
       "</div>"
      ],
      "text/plain": [
       "                             count       mean        std  min        25%  \\\n",
       "price                      7590.00  298207.57  507458.57 0.00   95000.00   \n",
       "price_aprox_local_currency 7590.00 3591849.41 4758038.25 0.00 1364616.00   \n",
       "price_aprox_usd            7590.00  236891.88  313805.09 0.00   90000.00   \n",
       "surface_total_in_m2        5946.00     252.83     938.37 0.00      48.00   \n",
       "surface_covered_in_m2      7268.00     140.32     764.09 0.00      46.00   \n",
       "price_usd_per_m2           4895.00    1718.75    1577.02 0.00     916.67   \n",
       "price_per_m2               6520.00    3732.99   12265.59 2.22    1450.00   \n",
       "floor                      1259.00       8.80      59.64 1.00       2.00   \n",
       "rooms                      4752.00       3.07       1.39 1.00       2.00   \n",
       "\n",
       "                                  50%        75%          max  \n",
       "price                       155000.00  300000.00  11111111.00  \n",
       "price_aprox_local_currency 2228872.80 4018036.00 121299200.00  \n",
       "price_aprox_usd             147000.00  265000.00   8000000.00  \n",
       "surface_total_in_m2             95.00     250.00     62034.00  \n",
       "surface_covered_in_m2           76.50     160.00     62034.00  \n",
       "price_usd_per_m2              1600.00    2186.13     54990.00  \n",
       "price_per_m2                  1961.11    2677.71    450000.00  \n",
       "floor                            3.00       6.00      1503.00  \n",
       "rooms                            3.00       4.00        20.00  "
      ]
     },
     "execution_count": 5,
     "metadata": {},
     "output_type": "execute_result"
    }
   ],
   "source": [
    "df.describe().T"
   ]
  },
  {
   "cell_type": "code",
   "execution_count": 6,
   "id": "803304af-8fcb-4a18-a33b-b13bf1eba280",
   "metadata": {},
   "outputs": [
    {
     "data": {
      "text/plain": [
       "count    7268.00\n",
       "mean      140.32\n",
       "std       764.09\n",
       "min         0.00\n",
       "25%        46.00\n",
       "50%        76.50\n",
       "75%       160.00\n",
       "max     62034.00\n",
       "Name: surface_covered_in_m2, dtype: float64"
      ]
     },
     "execution_count": 6,
     "metadata": {},
     "output_type": "execute_result"
    }
   ],
   "source": [
    "df['surface_covered_in_m2'].describe()"
   ]
  },
  {
   "cell_type": "code",
   "execution_count": 7,
   "id": "c2305edf-a708-459f-af4c-5e862442e0bd",
   "metadata": {},
   "outputs": [
    {
     "data": {
      "image/png": "[encoded data removed]",
      "text/plain": [
       "<Figure size 640x480 with 1 Axes>"
      ]
     },
     "metadata": {},
     "output_type": "display_data"
    }
   ],
   "source": [
    "plt.hist(df['surface_covered_in_m2'])\n",
    "plt.xlabel('Area [sq meters]')\n",
    "plt.title('Distribution of Apartment Sizes')\n",
    "\n",
    "plt.show()"
   ]
  },
  {
   "cell_type": "code",
   "execution_count": 19,
   "id": "1cd5e5e8-8542-406d-a5ee-e874a759939c",
   "metadata": {},
   "outputs": [],
   "source": [
    "new_df = df[\n",
    "(df['surface_covered_in_m2'] > df['surface_covered_in_m2'].quantile(0.1))\n",
    "&\n",
    "(df['surface_covered_in_m2'] < df['surface_covered_in_m2'].quantile(0.9))\n",
    "]"
   ]
  },
  {
   "cell_type": "code",
   "execution_count": 20,
   "id": "e2ed8872-bb59-4c2f-bb07-5204e2d08164",
   "metadata": {},
   "outputs": [
    {
     "data": {
      "image/png": "[encoded data removed]",
      "text/plain": [
       "<Figure size 640x480 with 1 Axes>"
      ]
     },
     "metadata": {},
     "output_type": "display_data"
    }
   ],
   "source": [
    "plt.hist(new_df['surface_covered_in_m2'])\n",
    "plt.xlabel('Area [sq meters]')\n",
    "plt.title('Distribution of Apartment Sizes')\n",
    "\n",
    "plt.show()"
   ]
  },
  {
   "cell_type": "code",
   "execution_count": null,
   "id": "dcc783ad-c78c-4d1a-8671-98e4a4264bf9",
   "metadata": {},
   "outputs": [],
   "source": []
  }
 ],
 "metadata": {
  "kernelspec": {
   "display_name": "Python 3 (ipykernel)",
   "language": "python",
   "name": "python3"
  },
  "language_info": {
   "codemirror_mode": {
    "name": "ipython",
    "version": 3
   },
   "file_extension": ".py",
   "mimetype": "text/x-python",
   "name": "python",
   "nbconvert_exporter": "python",
   "pygments_lexer": "ipython3",
   "version": "3.11.8"
  }
 },
 "nbformat": 4,
 "nbformat_minor": 5
}
