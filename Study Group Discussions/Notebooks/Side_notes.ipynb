{
 "cells": [
  {
   "cell_type": "code",
   "execution_count": null,
   "id": "3f9959f1-3bf8-4a4a-95f2-5e169873aafb",
   "metadata": {},
   "outputs": [],
   "source": [
    "import pandas as pd\n",
    "import numpy as np\n",
    "import matplotlib.pyplot as plt\n",
    "import seaborn as sns"
   ]
  },
  {
   "cell_type": "code",
   "execution_count": null,
   "id": "631f6243-99ac-4fb6-bc02-26de647786fc",
   "metadata": {},
   "outputs": [],
   "source": [
    "df = pd.read_csv(\"./real-estate-buenos_aires.csv\", index_col=False)"
   ]
  },
  {
   "cell_type": "code",
   "execution_count": null,
   "id": "cd7b2be0-2787-4748-ad74-8489805ff18f",
   "metadata": {},
   "outputs": [],
   "source": [
    "pd.options.display.float_format = '{:.2f}'.format"
   ]
  },
  {
   "cell_type": "code",
   "execution_count": null,
   "id": "6a9fcce4-c120-469b-81e4-39ac52c9b106",
   "metadata": {},
   "outputs": [],
   "source": [
    "df.info()"
   ]
  },
  {
   "cell_type": "code",
   "execution_count": null,
   "id": "33d83ff7-e708-4483-87bb-f8d30938e9b0",
   "metadata": {},
   "outputs": [],
   "source": [
    "df.describe().T"
   ]
  },
  {
   "cell_type": "code",
   "execution_count": null,
   "id": "803304af-8fcb-4a18-a33b-b13bf1eba280",
   "metadata": {},
   "outputs": [],
   "source": [
    "df['surface_covered_in_m2'].describe()"
   ]
  },
  {
   "cell_type": "code",
   "execution_count": null,
   "id": "c2305edf-a708-459f-af4c-5e862442e0bd",
   "metadata": {},
   "outputs": [],
   "source": [
    "plt.hist(df['surface_covered_in_m2'])\n",
    "plt.xlabel('Area [sq meters]')\n",
    "plt.title('Distribution of Apartment Sizes')\n",
    "\n",
    "plt.show()"
   ]
  }
 ],
 "metadata": {
  "kernelspec": {
   "display_name": "Python 3 (ipykernel)",
   "language": "python",
   "name": "python3"
  },
  "language_info": {
   "codemirror_mode": {
    "name": "ipython",
    "version": 3
   },
   "file_extension": ".py",
   "mimetype": "text/x-python",
   "name": "python",
   "nbconvert_exporter": "python",
   "pygments_lexer": "ipython3",
   "version": "3.11.8"
  }
 },
 "nbformat": 4,
 "nbformat_minor": 5
}
